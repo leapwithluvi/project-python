{
 "cells": [
  {
   "cell_type": "code",
   "execution_count": 1,
   "id": "498fe3ce238cfb2e",
   "metadata": {},
   "outputs": [],
   "source": [
    "def tambah_agenda(agenda, agenda_baru):\n",
    "    # Untuk membuat/menambahkan agenda baru\n",
    "    agenda.append(agenda_baru)\n",
    "    print(\"Agenda berhasil ditambahkan!\")"
   ]
  },
  {
   "cell_type": "code",
   "execution_count": 2,
   "id": "a28c97e4403a73bc",
   "metadata": {},
   "outputs": [],
   "source": [
    "def lihat_agenda(agenda):\n",
    "    # Untuk menampilkan agenda\n",
    "    print(\"Daftar AgendaKU:\")\n",
    "    for index, item in enumerate(agenda):\n",
    "        print(f\"{index+1}. {item}\")"
   ]
  },
  {
   "cell_type": "code",
   "execution_count": 3,
   "id": "initial_id",
   "metadata": {},
   "outputs": [],
   "source": [
    "def main():\n",
    "    agenda = []\n",
    "\n",
    "    while True:\n",
    "        print(\"Welcome to AgendaKu!\")\n",
    "        print(\"1. Menambah Agenda\")\n",
    "        print(\"2. Melihat Agenda\")\n",
    "        print(\"3. Keluar dari Agenda\")\n",
    "\n",
    "        pilihan = input(\"Masukkan pilihan dari antara (1/2/3):  \")\n",
    "\n",
    "        if pilihan == '1':\n",
    "            agenda_baru = input(\"Masukkan agenda baru:  \")\n",
    "            tambah_agenda(agenda, agenda_baru)\n",
    "        elif pilihan == '2':\n",
    "            lihat_agenda(agenda)\n",
    "        elif pilihan == '3':\n",
    "            break\n",
    "        else:\n",
    "            print(\"Pilihan anda salah, masukkan pilihan yang tepat (1, 2 atau 3)\")\n",
    "    print(\"Anda berhasil keluar dari program AgendaKU!\")"
   ]
  },
  {
   "cell_type": "code",
   "execution_count": null,
   "id": "3a1539d9e632d276",
   "metadata": {},
   "outputs": [
    {
     "name": "stdout",
     "output_type": "stream",
     "text": [
      "Welcome to AgendaKu!\n",
      "1. Menambah Agenda\n",
      "2. Melihat Agenda\n",
      "3. Keluar dari Agenda\n"
     ]
    }
   ],
   "source": [
    "main()"
   ]
  },
  {
   "cell_type": "code",
   "execution_count": null,
   "id": "69c91a80-784c-4dc0-b1e5-7e0ab32276a2",
   "metadata": {},
   "outputs": [],
   "source": []
  }
 ],
 "metadata": {
  "kernelspec": {
   "display_name": "Python 3 (ipykernel)",
   "language": "python",
   "name": "python3"
  },
  "language_info": {
   "codemirror_mode": {
    "name": "ipython",
    "version": 3
   },
   "file_extension": ".py",
   "mimetype": "text/x-python",
   "name": "python",
   "nbconvert_exporter": "python",
   "pygments_lexer": "ipython3",
   "version": "3.12.10"
  }
 },
 "nbformat": 4,
 "nbformat_minor": 5
}
