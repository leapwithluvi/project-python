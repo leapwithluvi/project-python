{
 "cells": [
  {
   "metadata": {},
   "cell_type": "code",
   "outputs": [],
   "execution_count": null,
   "source": [
    "class AkunBank:\n",
    "    def __init__(self, nomor_rekening, saldo):\n",
    "        self.nomor_rekening = nomor_rekening\n",
    "        self._saldo = saldo\n",
    "        self.__pin = \"1234\"\n",
    "\n",
    "    def info(self):\n",
    "        print(f\"Nomor Rekening : {self.nomor_rekening}\")\n",
    "        print(f\"Memiliki saldo sebesar : Rp.{self._saldo}\")\n",
    "\n",
    "    def tambah_saldo(self, penambah):\n",
    "        self._saldo += penambah\n",
    "\n",
    "    def penarikan(self, penarikan, pin):\n",
    "        if pin == self.__pin:\n",
    "            if penarikan <= self._saldo:\n",
    "                self._saldo -= penarikan\n",
    "                print(f\"Anda berhasil melakukan penarikan saldo sebesar : Rp.{penarikan}\")\n",
    "                print(f\"Sisa saldo anda adalah : Rp.{self._saldo}\")\n",
    "            else:\n",
    "                print(\"Penarikan tidak berhasil, saldo anda tidak cukup\")\n",
    "        else:\n",
    "            print(\"Pin yang anda masukkan salah!\")\n",
    "\n",
    "    def ubah_pin(self, pin_lama, pin_baru):\n",
    "        if pin_lama == self.__pin:\n",
    "            self.__pin = pin_baru\n",
    "            print(\"Pin ada berhasil diubah!\")\n",
    "        else:\n",
    "            print(\"Pin yang anda masukkan salah!\")"
   ],
   "id": "ce028bfe7d644773"
  }
 ],
 "metadata": {
  "kernelspec": {
   "display_name": "Python 3",
   "language": "python",
   "name": "python3"
  },
  "language_info": {
   "codemirror_mode": {
    "name": "ipython",
    "version": 2
   },
   "file_extension": ".py",
   "mimetype": "text/x-python",
   "name": "python",
   "nbconvert_exporter": "python",
   "pygments_lexer": "ipython2",
   "version": "2.7.6"
  }
 },
 "nbformat": 4,
 "nbformat_minor": 5
}
